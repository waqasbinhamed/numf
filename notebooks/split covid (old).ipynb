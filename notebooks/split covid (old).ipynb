{
 "cells": [
  {
   "cell_type": "code",
   "execution_count": null,
   "metadata": {
    "pycharm": {
     "name": "#%%\n"
    }
   },
   "outputs": [],
   "source": [
    "import pandas as pd\n",
    "import numpy as np\n",
    "from algo import numf\n",
    "from peaks import get_peaks\n",
    "from matplotlib import pyplot as plt\n",
    "\n",
    "np.random.seed(42)"
   ]
  },
  {
   "cell_type": "code",
   "execution_count": null,
   "metadata": {
    "collapsed": false,
    "pycharm": {
     "name": "#%%\n"
    }
   },
   "outputs": [],
   "source": [
    "# Without Regularization\n",
    "r = 8\n",
    "maxiter = 100\n",
    "\n",
    "for sp in range(1, 5):\n",
    "    print(f'---------- SPLIT {sp} ----------')\n",
    "    df = pd.read_csv(f'data/cases_s{sp}.csv')\n",
    "    M = df['cases'].to_numpy().reshape(-1, 1)\n",
    "    m, n = M.shape\n",
    "    W0 = np.random.rand(m, r)\n",
    "    H0 = np.random.rand(r, n)\n",
    "    pvals = get_peaks(M, nrad=3)\n",
    "    W, H, _  = numf(M, W0, H0, pvals=pvals, iters=maxiter, save_file=f'saved_output/canada_sp{sp}_it{maxiter}.npz')\n"
   ]
  },
  {
   "cell_type": "code",
   "execution_count": null,
   "metadata": {
    "collapsed": false,
    "pycharm": {
     "name": "#%%\n"
    }
   },
   "outputs": [],
   "source": [
    "# With Regularization\n",
    "for sp in range(1, 5):\n",
    "    print(f'---------- SPLIT {sp} ----------')\n",
    "    df = pd.read_csv(f'data/cases_s{sp}.csv')\n",
    "    M = df['cases'].to_numpy().reshape(-1, 1)\n",
    "    m, n = M.shape\n",
    "    W0 = np.random.rand(m, r)\n",
    "    H0 = np.random.rand(r, n)\n",
    "    pvals = get_peaks(M, nrad=3)\n",
    "    W, H, _  = numf(M, W0, H0, pvals=pvals, iters=maxiter, l2=0.2, save_file=f'saved_output/canada_reg_sp{sp}_it{maxiter}.npz')\n"
   ]
  },
  {
   "cell_type": "code",
   "execution_count": 2,
   "metadata": {
    "pycharm": {
     "name": "#%%\n"
    }
   },
   "outputs": [],
   "source": [
    "# Complete dataset without regularization\n",
    "r = 16\n",
    "maxiter = 50\n",
    "_load = np.load('saved_output/canada_it50.npz')\n",
    "\n",
    "df = pd.read_csv(f'data/cases.csv')\n",
    "M = df['cases'].to_numpy().reshape(-1, 1)\n",
    "m, n = M.shape\n",
    "W0 = _load['W']\n",
    "H0 = _load['H']\n",
    "pvals = get_peaks(M, nrad=5)\n",
    "W, H, _  = numf(M, W0, H0, pvals=pvals, iters=5, save_file=f'saved_output/canada_it{maxiter}.npz')\n"
   ]
  },
  {
   "cell_type": "code",
   "execution_count": null,
   "metadata": {
    "pycharm": {
     "name": "#%%\n"
    }
   },
   "outputs": [],
   "source": [
    "# Complete dataset with regularization\n",
    "_load = np.load('saved_output/canada_reg_it5.npz')\n",
    "\n",
    "\n",
    "df = pd.read_csv(f'data/cases.csv')\n",
    "M = df['cases'].to_numpy().reshape(-1, 1)\n",
    "m, n = M.shape\n",
    "W0 = _load['W']\n",
    "H0 = _load['H']\n",
    "pvals = get_peaks(M, nrad=5)\n",
    "W, H, _  = numf(M, W0, H0, pvals=pvals, iters=maxiter-5, l2=0.2, save_file=f'saved_output/canada_reg_it{maxiter}.npz')"
   ]
  },
  {
   "cell_type": "code",
   "execution_count": null,
   "metadata": {
    "pycharm": {
     "name": "#%%\n"
    }
   },
   "outputs": [],
   "source": []
  }
 ],
 "metadata": {
  "kernelspec": {
   "display_name": "Python 3.9.13 ('numf')",
   "language": "python",
   "name": "python3"
  },
  "language_info": {
   "codemirror_mode": {
    "name": "ipython",
    "version": 3
   },
   "file_extension": ".py",
   "mimetype": "text/x-python",
   "name": "python",
   "nbconvert_exporter": "python",
   "pygments_lexer": "ipython3",
   "version": "3.9.13"
  },
  "vscode": {
   "interpreter": {
    "hash": "778e3d384db463ad78c4074b02d92d21632eac47814710bba018fe76f13f480b"
   }
  }
 },
 "nbformat": 4,
 "nbformat_minor": 1
}
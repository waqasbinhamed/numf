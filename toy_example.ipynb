{
 "cells": [
  {
   "cell_type": "code",
   "execution_count": 1,
   "id": "014567f8",
   "metadata": {
    "pycharm": {
     "name": "#%%\n"
    }
   },
   "outputs": [],
   "source": [
    "import numpy as np\n",
    "import matplotlib.pyplot as plt"
   ]
  },
  {
   "cell_type": "code",
   "execution_count": 2,
   "outputs": [],
   "source": [
    "def gauss(x, sigma=1, mean=0, scale=1):\n",
    "    return scale * np.exp(-np.square(x - mean) / (2 * sigma ** 2))\n",
    "\n",
    "m = 100\n",
    "r = 3\n",
    "p1 = 24\n",
    "p2 = 50\n",
    "p3 = 76\n",
    "\n",
    "x = np.linspace(1, 100, 100).reshape(-1, 1)\n",
    "w1 = gauss(x, sigma=2, mean=p1)\n",
    "w2 = np.concatenate((np.zeros((int((m-50)/2), 1)), np.ones((p2, 1)), np.zeros((int((m-50)/2), 1))))\n",
    "w3 = gauss(x, sigma=2, mean=p3)\n",
    "Wtrue = np.hstack((w1, w2, w3))\n",
    "\n",
    "\n",
    "n = 6\n",
    "c = 1/np.sqrt(r-1)\n",
    "e = 0.001\n",
    "Htrue = np.array([[c + e, 1-c-e, 0],\n",
    "                  [1-c-e, c+e, 0],\n",
    "                  [c+e, 0, 1-c-e],\n",
    "                  [1-c-e, 0, c+e],\n",
    "                  [0, c+e, 1-c-e],\n",
    "                  [0, 1-c-e, c+e]]).T\n",
    "\n",
    "M = Wtrue @ Htrue"
   ],
   "metadata": {
    "collapsed": false,
    "pycharm": {
     "name": "#%%\n"
    }
   }
  },
  {
   "cell_type": "code",
   "execution_count": 5,
   "outputs": [],
   "source": [
    "from numf_func import numf, get_peaks"
   ],
   "metadata": {
    "collapsed": false,
    "pycharm": {
     "name": "#%%\n"
    }
   }
  },
  {
   "cell_type": "code",
   "execution_count": 9,
   "outputs": [
    {
     "name": "stdout",
     "output_type": "stream",
     "text": [
      "0 0.20012579346420337\n",
      "1 0.19800653346733063\n",
      "2 0.19592432722212147\n",
      "3 0.19379267902905303\n",
      "4 0.19151429202508438\n",
      "5 0.18901767668558242\n",
      "6 0.18624124429149475\n",
      "7 0.18308663256001495\n",
      "8 0.179456203222917\n",
      "9 0.17528967339085566\n"
     ]
    }
   ],
   "source": [
    "# W0 = np.random.rand(m, r)\n",
    "# H0 = np.random.rand(r, n)\n",
    "pvals = get_peaks(M, 2)\n",
    "(W, H) = numf(M, W, H, iters=10, peak_vals=pvals)"
   ],
   "metadata": {
    "collapsed": false,
    "pycharm": {
     "name": "#%%\n"
    }
   }
  },
  {
   "cell_type": "code",
   "execution_count": 7,
   "outputs": [
    {
     "ename": "NameError",
     "evalue": "name 'W' is not defined",
     "output_type": "error",
     "traceback": [
      "\u001B[0;31m---------------------------------------------------------------------------\u001B[0m",
      "\u001B[0;31mNameError\u001B[0m                                 Traceback (most recent call last)",
      "Input \u001B[0;32mIn [7]\u001B[0m, in \u001B[0;36m<cell line: 1>\u001B[0;34m()\u001B[0m\n\u001B[0;32m----> 1\u001B[0m plt\u001B[38;5;241m.\u001B[39mplot(x, \u001B[43mW\u001B[49m)\n",
      "\u001B[0;31mNameError\u001B[0m: name 'W' is not defined"
     ]
    }
   ],
   "source": [
    "plt.plot(x, W)"
   ],
   "metadata": {
    "collapsed": false,
    "pycharm": {
     "name": "#%%\n"
    }
   }
  },
  {
   "cell_type": "code",
   "execution_count": null,
   "outputs": [],
   "source": [],
   "metadata": {
    "collapsed": false,
    "pycharm": {
     "name": "#%%\n"
    }
   }
  }
 ],
 "metadata": {
  "kernelspec": {
   "display_name": "Python 3.8.13 ('research')",
   "language": "python",
   "name": "python3"
  },
  "language_info": {
   "codemirror_mode": {
    "name": "ipython",
    "version": 3
   },
   "file_extension": ".py",
   "mimetype": "text/x-python",
   "name": "python",
   "nbconvert_exporter": "python",
   "pygments_lexer": "ipython3",
   "version": "3.8.13"
  },
  "vscode": {
   "interpreter": {
    "hash": "cf7369d38975a6e991d03979cf6570122e070b876a81b4023a827ba3667e0d1e"
   }
  }
 },
 "nbformat": 4,
 "nbformat_minor": 5
}